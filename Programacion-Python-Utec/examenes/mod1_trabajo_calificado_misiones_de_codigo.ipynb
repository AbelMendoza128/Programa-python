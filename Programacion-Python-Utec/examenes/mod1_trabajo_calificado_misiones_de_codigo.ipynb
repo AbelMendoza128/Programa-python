{
  "nbformat": 4,
  "nbformat_minor": 0,
  "metadata": {
    "colab": {
      "provenance": [],
      "include_colab_link": true
    },
    "kernelspec": {
      "name": "python3",
      "display_name": "Python 3"
    },
    "language_info": {
      "name": "python"
    }
  },
  "cells": [
    {
      "cell_type": "markdown",
      "metadata": {
        "id": "view-in-github",
        "colab_type": "text"
      },
      "source": [
        "<a href=\"https://colab.research.google.com/github/AbelMendoza128/Programa-python/blob/main/Programacion-Python-Utec/examenes/mod1_trabajo_calificado_misiones_de_codigo.ipynb\" target=\"_parent\"><img src=\"https://colab.research.google.com/assets/colab-badge.svg\" alt=\"Open In Colab\"/></a>"
      ]
    },
    {
      "cell_type": "markdown",
      "source": [
        "<img src=\"https://posgrado.utec.edu.pe/sites/default/files/2023-08/Testimonial-home-2.jpg\" alt=\"HTML5 Icon\" width=\"900\" height=\"250\" >\n"
      ],
      "metadata": {
        "id": "dYz-CyepUcRS"
      }
    },
    {
      "cell_type": "markdown",
      "source": [
        "# **Trabajo Calificado: Misiones de Código**"
      ],
      "metadata": {
        "id": "tYd6BiWgUfLo"
      }
    },
    {
      "cell_type": "markdown",
      "source": [
        "**Contexto:**\n",
        "\n",
        "Eres desarrollador de un Simulador de Aventuras llamado Pythonia, un entorno virtual de entrenamiento diseñado para mejorar tus habilidades de programación. En este simulador, enfrentarás una serie de desafíos basados en situaciones de videojuegos y escenarios de aventura, donde deberás aplicar estructuras lógicas, condicionales, bucles y funciones para resolver problemas.\n",
        "\n"
      ],
      "metadata": {
        "id": "GtjjVTFRU6W1"
      }
    },
    {
      "cell_type": "markdown",
      "source": [
        "Cada ejercicio representa un reto independiente que simula eventos comunes en el desarrollo de videojuegos, sistemas de simulación y lógica de juegos interactivos."
      ],
      "metadata": {
        "id": "Ggayz2SXVXjt"
      }
    },
    {
      "cell_type": "markdown",
      "source": [
        "**Recomendaciones:**\n",
        "\n",
        "Utilizar buenas prácticas: comentarios, entradas y salidas limpias.\n",
        "\n",
        "Uso de funciones donde sea necesario."
      ],
      "metadata": {
        "id": "eAL1_dscUjd_"
      }
    },
    {
      "cell_type": "markdown",
      "source": [
        "**Ejercicio 1: Elige tu personaje (Variables y Entrada/Salida)**\n",
        "\n",
        "Crea un programa que permita al jugador elegir su personaje entre Mago, Guerrero o Arquero. Según la elección, muestra un mensaje personalizado con las estadísticas iniciales (vida, poder, defensa)."
      ],
      "metadata": {
        "id": "YpxJc_PoVc4c"
      }
    },
    {
      "cell_type": "code",
      "source": [
        "# Diccionario con estadísticas de los personajes\n",
        "personajes = {\n",
        "    \"Mago\": {\"Vida\": 90, \"Poder\": 80, \"Defensa\": 40},\n",
        "    \"Guerrero\": {\"Vida\": 80, \"Poder\": 100, \"Defensa\": 70},\n",
        "    \"Arquero\": {\"Vida\": 70, \"Poder\": 90, \"Defensa\": 60}\n",
        "}\n",
        "\n",
        "# Entrada del usuario\n",
        "personaje = input(\"Selecciona un personaje (Mago, Guerrero, Arquero): \").capitalize().strip()\n",
        "\n",
        "# Verifica si el personaje existe\n",
        "if personaje in personajes:\n",
        "    stats = personajes[personaje]\n",
        "    print(f\"Seleccionaste {personaje} y sus estadísticas son: Vida = {stats['Vida']}, Poder = {stats['Poder']}, Defensa = {stats['Defensa']}\")\n",
        "else:\n",
        "    print(\"Personaje no válido. Por favor elige entre Mago, Guerrero o Arquero.\")"
      ],
      "metadata": {
        "id": "GZrzl-7wVfkW",
        "outputId": "adebde87-73a5-4d92-c0a6-532a94ba9df2",
        "colab": {
          "base_uri": "https://localhost:8080/"
        }
      },
      "execution_count": null,
      "outputs": [
        {
          "output_type": "stream",
          "name": "stdout",
          "text": [
            "Selecciona un personaje (Mago, Guerrero, Arquero): arquero\n",
            "Seleccionaste Arquero y sus estadísticas son: Vida = 70, Poder = 90, Defensa = 60\n"
          ]
        }
      ]
    },
    {
      "cell_type": "markdown",
      "source": [
        "**Ejercicio 2: La prueba del sabio (Condicionales)**\n",
        "\n",
        "El sabio te hace una pregunta: si traes menos de 50 monedas de oro, te expulsará; si llevas entre 50 y 100, te permitirá pasar; si llevas más de 100, te dará una poción.\n",
        "Crea el programa que lea las monedas y muestre el resultado."
      ],
      "metadata": {
        "id": "kvoGwX-QVgPr"
      }
    },
    {
      "cell_type": "code",
      "execution_count": null,
      "metadata": {
        "id": "3tg6KSK-UbUw",
        "outputId": "8b4c2909-bf85-446e-bc6d-fd3b1143e2b9",
        "colab": {
          "base_uri": "https://localhost:8080/"
        }
      },
      "outputs": [
        {
          "output_type": "stream",
          "name": "stdout",
          "text": [
            "¿Cuántas monedas tienes?: 80.5\n",
            "Puedes pasar\n"
          ]
        }
      ],
      "source": [
        "#Identificar cuantas monedas tienes\n",
        "monedas = float(input(\"¿Cuántas monedas tienes?: \"))\n",
        "\n",
        "#Dar una respuesta en función de la cantidad de monedas que tienes\n",
        "if monedas < 50:\n",
        "    print(\"Debes ser expulsado\")\n",
        "elif 50 <= monedas <= 100:\n",
        "    print(\"Puedes pasar\")\n",
        "else:\n",
        "    print(\"Te daré una poción\")"
      ]
    },
    {
      "cell_type": "markdown",
      "source": [
        "**Ejercicio 3: El puente infinito (Bucles While)**\n",
        "\n",
        "Diseña un programa que simule el cruce de un puente que cambia su estructura aleatoriamente. El jugador debe adivinar si el siguiente paso será seguro ('s') o peligroso ('p').\n",
        "El juego termina si el jugador elige 'salir' o si falla 3 veces."
      ],
      "metadata": {
        "id": "g7B02fWhVj4M"
      }
    },
    {
      "cell_type": "code",
      "source": [
        "import random\n",
        "\n",
        "fallos = 0\n",
        "max_fallos = 3\n",
        "\n",
        "print(\"Bienvenido al Puente Infinito. Adivina si el siguiente paso es seguro ('s') o peligroso ('p'). Escribe 'salir' para terminar.\")\n",
        "\n",
        "while fallos < max_fallos:\n",
        "    paso_real = random.choice(['s', 'p'])\n",
        "    eleccion = input(\"¿Cuál es tu elección? (s/p o 'salir'): \").lower().strip()\n",
        "\n",
        "    if eleccion == 'salir':\n",
        "        print(\"Has salido del juego. ¡Hasta la próxima!\")\n",
        "        break\n",
        "\n",
        "    if eleccion not in ['s', 'p']:\n",
        "        print(\"Entrada no válida. Escribe 's', 'p' o 'salir'.\")\n",
        "        continue\n",
        "\n",
        "    if eleccion == paso_real:\n",
        "        print(\"¡Correcto! El paso era:\", paso_real)\n",
        "    else:\n",
        "        fallos += 1\n",
        "        print(f\"¡Fallaste! El paso era: {paso_real}. Fallos acumulados: {fallos}/{max_fallos}\")\n",
        "\n",
        "if fallos >= max_fallos:\n",
        "    print(\"¡Has fallado 3 veces! El puente colapsó. Fin del juego.\")\n"
      ],
      "metadata": {
        "id": "9DRMWhDBVn71",
        "outputId": "81628c35-b3e6-4499-9b18-90d536dfd6bd",
        "colab": {
          "base_uri": "https://localhost:8080/"
        }
      },
      "execution_count": null,
      "outputs": [
        {
          "output_type": "stream",
          "name": "stdout",
          "text": [
            "Bienvenido al Puente Infinito. Adivina si el siguiente paso es seguro ('s') o peligroso ('p'). Escribe 'salir' para terminar.\n",
            "¿Cuál es tu elección? (s/p o 'salir'): p\n",
            "¡Fallaste! El paso era: s. Fallos acumulados: 1/3\n",
            "¿Cuál es tu elección? (s/p o 'salir'): \n",
            "Entrada no válida. Escribe 's', 'p' o 'salir'.\n",
            "¿Cuál es tu elección? (s/p o 'salir'): p\n",
            "¡Fallaste! El paso era: s. Fallos acumulados: 2/3\n",
            "¿Cuál es tu elección? (s/p o 'salir'): ´k\n",
            "Entrada no válida. Escribe 's', 'p' o 'salir'.\n",
            "¿Cuál es tu elección? (s/p o 'salir'): p\n",
            "¡Fallaste! El paso era: s. Fallos acumulados: 3/3\n",
            "¡Has fallado 3 veces! El puente colapsó. Fin del juego.\n"
          ]
        }
      ]
    },
    {
      "cell_type": "markdown",
      "source": [
        "**Ejercicio 4: El laberinto secreto (Bucle For y Range)**\n",
        "\n",
        "Crea un programa que muestre una cuenta regresiva desde 10 hasta 1 al estilo nivel de escape del laberinto. Cada número debe ir acompañado de un mensaje tipo \"Quedan X segundos para escapar\"."
      ],
      "metadata": {
        "id": "66qKXQwTVoZG"
      }
    },
    {
      "cell_type": "code",
      "source": [
        "for segundos in range(10, 0, -1):\n",
        "    print(f\"Quedan {segundos} segundos para escapar\")"
      ],
      "metadata": {
        "id": "i1S9WPmhVsEj",
        "outputId": "b8cb2e56-ddf6-4f82-beb7-ce95a25908b7",
        "colab": {
          "base_uri": "https://localhost:8080/"
        }
      },
      "execution_count": null,
      "outputs": [
        {
          "output_type": "stream",
          "name": "stdout",
          "text": [
            "Quedan 10 segundos para escapar\n",
            "Quedan 9 segundos para escapar\n",
            "Quedan 8 segundos para escapar\n",
            "Quedan 7 segundos para escapar\n",
            "Quedan 6 segundos para escapar\n",
            "Quedan 5 segundos para escapar\n",
            "Quedan 4 segundos para escapar\n",
            "Quedan 3 segundos para escapar\n",
            "Quedan 2 segundos para escapar\n",
            "Quedan 1 segundos para escapar\n"
          ]
        }
      ]
    },
    {
      "cell_type": "markdown",
      "source": [
        "**Ejercicio 5: Cofres encantados (Break y Continue)**\n",
        "\n",
        "Simula 10 cofres cerrados, pero uno de ellos es una trampa explosiva (elige aleatoriamente una posición).\n",
        "El jugador abre cofres uno por uno:\n",
        "\n",
        "* Si encuentra la trampa, termina el juego (break).\n",
        "\n",
        "* Si encuentra cofres vacíos, continúa (continue).\n",
        "\n",
        "* Si abre todos sin explotar, gana."
      ],
      "metadata": {
        "id": "5dL6C-x1VsYf"
      }
    },
    {
      "cell_type": "code",
      "source": [
        "import random\n",
        "\n",
        "# Elegir aleatoriamente la posición del cofre trampa (entre 1 y 10)\n",
        "trampa = random.randint(1, 10)\n",
        "\n",
        "print(\"¡Cuidado! Hay 10 cofres, uno contiene una trampa explosiva.\")\n",
        "\n",
        "# Simular la apertura de 10 cofres\n",
        "for i in range(1, 11):\n",
        "    print(f\"Abriste el cofre #{i}...\")\n",
        "\n",
        "    if i == trampa:\n",
        "        print(\"¡Explotaste! ¡Trampa explosiva! Has perdido.\")\n",
        "        break\n",
        "\n",
        "    print(\"El cofre está vacío. Sigues con vida.\")\n",
        "    continue\n",
        "\n",
        "else:\n",
        "    # Este bloque se ejecuta solo si no se activó el break\n",
        "    print(\"Sobreviviste un día más al mundo :) ¡Abriste todos los cofres sin activar la trampa! ¡Ganaste!\")"
      ],
      "metadata": {
        "id": "d0hcbl0_V2BI",
        "outputId": "f4e45825-1510-456f-e260-8db8f352181c",
        "colab": {
          "base_uri": "https://localhost:8080/"
        }
      },
      "execution_count": null,
      "outputs": [
        {
          "output_type": "stream",
          "name": "stdout",
          "text": [
            "¡Cuidado! Hay 10 cofres, uno contiene una trampa explosiva.\n",
            "Abriste el cofre #1...\n",
            "El cofre está vacío. Sigues con vida.\n",
            "Abriste el cofre #2...\n",
            "El cofre está vacío. Sigues con vida.\n",
            "Abriste el cofre #3...\n",
            "El cofre está vacío. Sigues con vida.\n",
            "Abriste el cofre #4...\n",
            "El cofre está vacío. Sigues con vida.\n",
            "Abriste el cofre #5...\n",
            "El cofre está vacío. Sigues con vida.\n",
            "Abriste el cofre #6...\n",
            "El cofre está vacío. Sigues con vida.\n",
            "Abriste el cofre #7...\n",
            "¡Explotaste! ¡Trampa explosiva! Has perdido.\n"
          ]
        }
      ]
    },
    {
      "cell_type": "markdown",
      "source": [
        "**Ejercicio 6: Pociones mágicas (Funciones básicas)**\n",
        "\n",
        "Crea una función usar_pocion(tipo) que permita al jugador elegir entre 'vida', 'fuerza' o 'velocidad', y retorne el efecto de la poción.\n",
        "Luego, pide al usuario que elija una poción y muestra el resultado llamando a la función."
      ],
      "metadata": {
        "id": "94yOz-rKV2gp"
      }
    },
    {
      "cell_type": "code",
      "source": [
        "def usar_pocion(tipo):\n",
        "    tipo = tipo.lower().strip()  # Normaliza entrada\n",
        "    if tipo == \"vida\":\n",
        "        return \"Has recuperado 50 puntos de vida.\"\n",
        "    elif tipo == \"fuerza\":\n",
        "        return \"Tu fuerza ha aumentado durante 5 minutos.\"\n",
        "    elif tipo == \"velocidad\":\n",
        "        return \"Tu velocidad se duplicó durante 10 segundos.\"\n",
        "    else:\n",
        "        return \"Esa poción no existe.\"\n",
        "\n",
        "# Interacción con el usuario\n",
        "pocion = input(\"Elige una poción para usar ('vida', 'fuerza' o 'velocidad'): \")\n",
        "resultado = usar_pocion(pocion)\n",
        "print(resultado)"
      ],
      "metadata": {
        "id": "NQKm0w5iV4Zz",
        "outputId": "5fc849c2-e423-4b46-aba3-82b75ae8ae77",
        "colab": {
          "base_uri": "https://localhost:8080/"
        }
      },
      "execution_count": null,
      "outputs": [
        {
          "output_type": "stream",
          "name": "stdout",
          "text": [
            "Elige una poción para usar ('vida', 'fuerza' o 'velocidad'): fuerza\n",
            "Tu fuerza ha aumentado durante 5 minutos.\n"
          ]
        }
      ]
    },
    {
      "cell_type": "markdown",
      "source": [
        "**Ejercicio 7: Calculadora de daño crítico (Funciones con parámetros)**\n",
        "\n",
        "Crea una función calcular_danio(base, critico) que reciba el daño base y un porcentaje de crítico, devolviendo el daño total.\n",
        "El usuario ingresará el daño base y el porcentaje crítico."
      ],
      "metadata": {
        "id": "Qdnbnm4nV44h"
      }
    },
    {
      "cell_type": "code",
      "source": [
        "def calcular_daño(base, critico):\n",
        "    return base + (base * critico / 100)\n",
        "\n",
        "# Solicitar datos al usuario\n",
        "base = float(input(\"Ingresa el daño base: \"))\n",
        "critico = float(input(\"Ingresa el porcentaje crítico (%): \"))\n",
        "\n",
        "# Calcular y mostrar el daño total\n",
        "daño_total = calcular_daño(base, critico)\n",
        "print(f\"El daño total es: {danio_total}\")\n",
        "\n"
      ],
      "metadata": {
        "id": "leaLQJWrV8Tx",
        "outputId": "d373038f-de05-4254-92ea-0b8793cfe99c",
        "colab": {
          "base_uri": "https://localhost:8080/"
        }
      },
      "execution_count": 25,
      "outputs": [
        {
          "output_type": "stream",
          "name": "stdout",
          "text": [
            "Ingresa el daño base: 100\n",
            "Ingresa el porcentaje crítico (%): 5\n",
            "El daño total es: 105.0\n"
          ]
        }
      ]
    },
    {
      "cell_type": "markdown",
      "source": [
        "**Ejercicio 8: El desafío del dragón (Condicionales + funciones + bucles)**\n",
        "\n",
        "Diseña una función enfrentar_dragon(vida, fuerza) que simule el combate:\n",
        "\n",
        "* El jugador ataca al dragón y el dragón contraataca restando vida.\n",
        "\n",
        "* Si la vida llega a 0, el jugador pierde.\n",
        "\n",
        "* Si el jugador realiza 3 ataques consecutivos sin morir, gana.\n",
        "Usa un bucle while interno para el combate."
      ],
      "metadata": {
        "id": "d4j1ckE2V9ag"
      }
    },
    {
      "cell_type": "code",
      "source": [
        "def enfrentar_dragon(vida, fuerza):\n",
        "    turnos_sobrevividos = 0\n",
        "    danio_dragon = 30  # Daño fijo que hace el dragón en cada turno\n",
        "\n",
        "    print(\"¡Te enfrentas al dragón! Sobrevive a 3 ataques para ganar.\")\n",
        "\n",
        "    while turnos_sobrevividos < 3:\n",
        "        # Turno del jugador\n",
        "        print(f\"Atacas con fuerza {fuerza}...\")\n",
        "\n",
        "        # Turno del dragón\n",
        "        vida -= danio_dragon\n",
        "        print(f\"El dragón contraataca. Te quedan {vida} puntos de vida.\")\n",
        "\n",
        "        if vida <= 0:\n",
        "            print(\"Has sido derrotado por el dragón.\")\n",
        "            return\n",
        "\n",
        "        turnos_sobrevividos += 1\n",
        "        print(f\"Has sobrevivido {turnos_sobrevividos} turno(s).\\n\")\n",
        "\n",
        "    print(\"¡Has vencido al dragón!\")\n",
        "\n",
        "# Pedir datos al jugador\n",
        "try:\n",
        "    vida_inicial = int(input(\"Ingresa tu vida inicial: \"))\n",
        "    fuerza_jugador = int(input(\"Ingresa tu fuerza de ataque: \"))\n",
        "    enfrentar_dragon(vida_inicial, fuerza_jugador)\n",
        "except ValueError:\n",
        "    print(\"Entrada inválida. Debes ingresar números enteros.\")"
      ],
      "metadata": {
        "id": "_CGyWwuaWByi",
        "outputId": "3c6af329-82c8-4316-8f29-638888507628",
        "colab": {
          "base_uri": "https://localhost:8080/"
        }
      },
      "execution_count": null,
      "outputs": [
        {
          "output_type": "stream",
          "name": "stdout",
          "text": [
            "Ingresa tu vida inicial: 100\n",
            "Ingresa tu fuerza de ataque: 200\n",
            "¡Te enfrentas al dragón! Sobrevive a 3 ataques para ganar.\n",
            "Atacas con fuerza 200...\n",
            "El dragón contraataca. Te quedan 70 puntos de vida.\n",
            "Has sobrevivido 1 turno(s).\n",
            "\n",
            "Atacas con fuerza 200...\n",
            "El dragón contraataca. Te quedan 40 puntos de vida.\n",
            "Has sobrevivido 2 turno(s).\n",
            "\n",
            "Atacas con fuerza 200...\n",
            "El dragón contraataca. Te quedan 10 puntos de vida.\n",
            "Has sobrevivido 3 turno(s).\n",
            "\n",
            "¡Has vencido al dragón!\n"
          ]
        }
      ]
    },
    {
      "cell_type": "markdown",
      "source": [
        "**Ejercicio 9: El camino del héroe (Recursividad sencilla)**\n",
        "\n",
        "Crea una función recursiva que simule el camino de un héroe cruzando N obstáculos, mostrando mensajes como:\n",
        "\n",
        "\"Obstáculo 3: saltando...\"\n",
        "\n",
        "Termina cuando N llegue a 0."
      ],
      "metadata": {
        "id": "8X5Y08fQWCFU"
      }
    },
    {
      "cell_type": "code",
      "source": [
        "def cruzar_obstaculos(n):\n",
        "    if n == 0:\n",
        "        print(\"Has cruzado todos los obstáculos. ¡El camino está libre!\")\n",
        "        return\n",
        "    print(f\"Obstáculo {n}: saltando...\")\n",
        "    cruzar_obstaculos(n - 1)\n",
        "\n",
        "# Solicitar al usuario cuántos obstáculos hay\n",
        "try:\n",
        "    total = int(input(\"¿Cuántos obstáculos debes cruzar?: \"))\n",
        "    if total < 0:\n",
        "        print(\"La cantidad de obstáculos no puede ser negativa.\")\n",
        "    else:\n",
        "        cruzar_obstaculos(total)\n",
        "except ValueError:\n",
        "    print(\"Entrada inválida. Debes ingresar un número entero.\")"
      ],
      "metadata": {
        "id": "vVDjZHSVWJdQ",
        "outputId": "397494cd-d59e-4e91-c69c-1d7f30979379",
        "colab": {
          "base_uri": "https://localhost:8080/"
        }
      },
      "execution_count": null,
      "outputs": [
        {
          "output_type": "stream",
          "name": "stdout",
          "text": [
            "¿Cuántos obstáculos debes cruzar?: 6\n",
            "Obstáculo 6: saltando...\n",
            "Obstáculo 5: saltando...\n",
            "Obstáculo 4: saltando...\n",
            "Obstáculo 3: saltando...\n",
            "Obstáculo 2: saltando...\n",
            "Obstáculo 1: saltando...\n",
            "Has cruzado todos los obstáculos. ¡El camino está libre!\n"
          ]
        }
      ]
    },
    {
      "cell_type": "markdown",
      "source": [
        "**Ejercicio 10: Torre de los hechizos (Reto Integrador Final)**\n",
        "\n",
        "Crea un programa completo que combine:\n",
        "\n",
        "* Elección de personaje.\n",
        "\n",
        "* Simulación de un combate contra un enemigo con vida y defensa.\n",
        "\n",
        "* Uso de funciones para calcular el daño.\n",
        "\n",
        "* Bucles para turnos de combate.\n",
        "\n",
        "* Uso de una función recursiva que simule las rondas como niveles (nivel 1, 2, 3 hasta ganar).\n",
        "\n"
      ],
      "metadata": {
        "id": "Behbpl_8WJzR"
      }
    },
    {
      "cell_type": "code",
      "source": [
        "import random\n",
        "\n",
        "# Clase para personajes\n",
        "class Personaje:\n",
        "    def __init__(self, nombre, vida, ataque, defensa):\n",
        "        self.nombre = nombre\n",
        "        self.vida = vida\n",
        "        self.vida_max = vida\n",
        "        self.ataque = ataque\n",
        "        self.defensa = defensa\n",
        "\n",
        "# Función para calcular daño\n",
        "def calcular_dano(atacante, defensor):\n",
        "    dano_base = random.randint(atacante.ataque - 5, atacante.ataque + 5)\n",
        "    dano_final = max(0, dano_base - defensor.defensa)\n",
        "    return dano_final\n",
        "\n",
        "# Función para mostrar estado\n",
        "def mostrar_estado(jugador, enemigo):\n",
        "    print(f\"\\n{jugador.nombre}: {jugador.vida}/{jugador.vida_max} HP\")\n",
        "    print(f\"Enemigo: {enemigo.vida}/{enemigo.vida_max} HP\")\n",
        "\n",
        "# Función para simular un combate\n",
        "def combate(jugador, enemigo):\n",
        "    print(f\"\\n¡{jugador.nombre} vs Enemigo del nivel!\")\n",
        "    while jugador.vida > 0 and enemigo.vida > 0:\n",
        "        # Turno del jugador\n",
        "        input(\"Presiona Enter para atacar...\")\n",
        "        dano = calcular_dano(jugador, enemigo)\n",
        "        enemigo.vida -= dano\n",
        "        print(f\"\\n¡{jugador.nombre} hace {dano} de daño!\")\n",
        "        mostrar_estado(jugador, enemigo)\n",
        "\n",
        "        if enemigo.vida <= 0:\n",
        "            print(\"\\n¡Enemigo derrotado!\")\n",
        "            return True\n",
        "\n",
        "        # Turno del enemigo\n",
        "        dano = calcular_dano(enemigo, jugador)\n",
        "        jugador.vida -= dano\n",
        "        print(f\"¡El enemigo hace {dano} de daño!\")\n",
        "        mostrar_estado(jugador, enemigo)\n",
        "\n",
        "        if jugador.vida <= 0:\n",
        "            print(\"\\n¡Has sido derrotado!\")\n",
        "            return False\n",
        "    return False\n",
        "\n",
        "# Función recursiva para los niveles\n",
        "def torre_hechizos(jugador, nivel=1):\n",
        "    if nivel > 3:\n",
        "        print(\"\\n¡Has completado la Torre de los Hechizos! ¡Victoria!\")\n",
        "        return True\n",
        "\n",
        "    print(f\"\\n=== Nivel {nivel} ===\")\n",
        "    # Crear enemigo con stats que aumentan por nivel\n",
        "    enemigo = Personaje(f\"Enemigo nivel {nivel}\", 50 + nivel * 20, 15 + nivel * 5, 5 + nivel * 2)\n",
        "\n",
        "    # Realizar combate\n",
        "    if combate(jugador, enemigo):\n",
        "        # Restaurar algo de vida al jugador\n",
        "        jugador.vida = min(jugador.vida + 20, jugador.vida_max)\n",
        "        print(f\"\\n¡Vida restaurada! {jugador.nombre} ahora tiene {jugador.vida} HP\")\n",
        "        # Llamada recursiva al siguiente nivel\n",
        "        return torre_hechizos(jugador, nivel + 1)\n",
        "    else:\n",
        "        print(\"\\nFin del juego. ¡Inténtalo de nuevo!\")\n",
        "        return False\n",
        "\n",
        "# Función principal\n",
        "def main():\n",
        "    print(\"=== Torre de los Hechizos ===\")\n",
        "    print(\"Elige tu personaje:\")\n",
        "    print(\"1. Mago (Alta ataque, baja defensa)\")\n",
        "    print(\"2. Guerrero (Equilibrado)\")\n",
        "    print(\"3. Tanque (Alta vida, baja ataque)\")\n",
        "\n",
        "    while True:\n",
        "        opcion = input(\"Selecciona (1-3): \")\n",
        "        if opcion in ['1', '2', '3']:\n",
        "            break\n",
        "        print(\"Opción inválida.\")\n",
        "\n",
        "    # Crear personaje según elección\n",
        "    if opcion == '1':\n",
        "        jugador = Personaje(\"Mago\", 80, 25, 5)\n",
        "    elif opcion == '2':\n",
        "        jugador = Personaje(\"Guerrero\", 100, 20, 10)\n",
        "    else:\n",
        "        jugador = Personaje(\"Tanque\", 150, 15, 15)\n",
        "\n",
        "    print(f\"\\n¡{jugador.nombre} entra en la Torre de los Hechizos!\")\n",
        "    torre_hechizos(jugador)\n",
        "\n",
        "# Iniciar juego\n",
        "if __name__ == \"__main__\":\n",
        "    main()"
      ],
      "metadata": {
        "id": "smtLq1SDWTJd",
        "outputId": "5ba38d6b-f269-428f-9e11-b788566b042f",
        "colab": {
          "base_uri": "https://localhost:8080/"
        }
      },
      "execution_count": 27,
      "outputs": [
        {
          "output_type": "stream",
          "name": "stdout",
          "text": [
            "=== Torre de los Hechizos ===\n",
            "Elige tu personaje:\n",
            "1. Mago (Alta ataque, baja defensa)\n",
            "2. Guerrero (Equilibrado)\n",
            "3. Tanque (Alta vida, baja ataque)\n",
            "Selecciona (1-3): 2\n",
            "\n",
            "¡Guerrero entra en la Torre de los Hechizos!\n",
            "\n",
            "=== Nivel 1 ===\n",
            "\n",
            "¡Guerrero vs Enemigo del nivel!\n",
            "Presiona Enter para atacar...\n",
            "\n",
            "¡Guerrero hace 14 de daño!\n",
            "\n",
            "Guerrero: 100/100 HP\n",
            "Enemigo: 56/70 HP\n",
            "¡El enemigo hace 9 de daño!\n",
            "\n",
            "Guerrero: 91/100 HP\n",
            "Enemigo: 56/70 HP\n",
            "Presiona Enter para atacar...\n",
            "\n",
            "¡Guerrero hace 18 de daño!\n",
            "\n",
            "Guerrero: 91/100 HP\n",
            "Enemigo: 38/70 HP\n",
            "¡El enemigo hace 5 de daño!\n",
            "\n",
            "Guerrero: 86/100 HP\n",
            "Enemigo: 38/70 HP\n",
            "Presiona Enter para atacar...45\n",
            "\n",
            "¡Guerrero hace 11 de daño!\n",
            "\n",
            "Guerrero: 86/100 HP\n",
            "Enemigo: 27/70 HP\n",
            "¡El enemigo hace 10 de daño!\n",
            "\n",
            "Guerrero: 76/100 HP\n",
            "Enemigo: 27/70 HP\n",
            "Presiona Enter para atacar...222\n",
            "\n",
            "¡Guerrero hace 9 de daño!\n",
            "\n",
            "Guerrero: 76/100 HP\n",
            "Enemigo: 18/70 HP\n",
            "¡El enemigo hace 15 de daño!\n",
            "\n",
            "Guerrero: 61/100 HP\n",
            "Enemigo: 18/70 HP\n",
            "Presiona Enter para atacar...\n",
            "\n",
            "¡Guerrero hace 16 de daño!\n",
            "\n",
            "Guerrero: 61/100 HP\n",
            "Enemigo: 2/70 HP\n",
            "¡El enemigo hace 13 de daño!\n",
            "\n",
            "Guerrero: 48/100 HP\n",
            "Enemigo: 2/70 HP\n",
            "Presiona Enter para atacar...\n",
            "\n",
            "¡Guerrero hace 18 de daño!\n",
            "\n",
            "Guerrero: 48/100 HP\n",
            "Enemigo: -16/70 HP\n",
            "\n",
            "¡Enemigo derrotado!\n",
            "\n",
            "¡Vida restaurada! Guerrero ahora tiene 68 HP\n",
            "\n",
            "=== Nivel 2 ===\n",
            "\n",
            "¡Guerrero vs Enemigo del nivel!\n",
            "Presiona Enter para atacar...\n",
            "\n",
            "¡Guerrero hace 6 de daño!\n",
            "\n",
            "Guerrero: 68/100 HP\n",
            "Enemigo: 84/90 HP\n",
            "¡El enemigo hace 20 de daño!\n",
            "\n",
            "Guerrero: 48/100 HP\n",
            "Enemigo: 84/90 HP\n",
            "Presiona Enter para atacar...\n",
            "\n",
            "¡Guerrero hace 8 de daño!\n",
            "\n",
            "Guerrero: 48/100 HP\n",
            "Enemigo: 76/90 HP\n",
            "¡El enemigo hace 14 de daño!\n",
            "\n",
            "Guerrero: 34/100 HP\n",
            "Enemigo: 76/90 HP\n",
            "Presiona Enter para atacar...\n",
            "\n",
            "¡Guerrero hace 12 de daño!\n",
            "\n",
            "Guerrero: 34/100 HP\n",
            "Enemigo: 64/90 HP\n",
            "¡El enemigo hace 15 de daño!\n",
            "\n",
            "Guerrero: 19/100 HP\n",
            "Enemigo: 64/90 HP\n",
            "Presiona Enter para atacar...\n",
            "\n",
            "¡Guerrero hace 9 de daño!\n",
            "\n",
            "Guerrero: 19/100 HP\n",
            "Enemigo: 55/90 HP\n",
            "¡El enemigo hace 19 de daño!\n",
            "\n",
            "Guerrero: 0/100 HP\n",
            "Enemigo: 55/90 HP\n",
            "\n",
            "¡Has sido derrotado!\n",
            "\n",
            "Fin del juego. ¡Inténtalo de nuevo!\n"
          ]
        }
      ]
    },
    {
      "cell_type": "markdown",
      "source": [
        "---\n",
        "\n",
        "# Gracias por completar este laboratorio!\n",
        "\n",
        "---\n"
      ],
      "metadata": {
        "id": "EONqoa25Wlx3"
      }
    }
  ]
}