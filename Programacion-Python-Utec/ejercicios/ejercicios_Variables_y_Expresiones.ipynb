{
  "nbformat": 4,
  "nbformat_minor": 0,
  "metadata": {
    "colab": {
      "provenance": [],
      "include_colab_link": true
    },
    "kernelspec": {
      "name": "python3",
      "display_name": "Python 3"
    },
    "language_info": {
      "name": "python"
    }
  },
  "cells": [
    {
      "cell_type": "markdown",
      "metadata": {
        "id": "view-in-github",
        "colab_type": "text"
      },
      "source": [
        "<a href=\"https://colab.research.google.com/github/AbelMendoza128/Programa-python/blob/main/Programacion-Python-Utec/ejercicios/ejercicios_Variables_y_Expresiones.ipynb\" target=\"_parent\"><img src=\"https://colab.research.google.com/assets/colab-badge.svg\" alt=\"Open In Colab\"/></a>"
      ]
    },
    {
      "cell_type": "markdown",
      "source": [
        "<img src=\"https://posgrado.utec.edu.pe/sites/default/files/2023-08/Testimonial-home-2.jpg\" alt=\"HTML5 Icon\" width=\"900\" height=\"250\" >\n"
      ],
      "metadata": {
        "id": "cqadFmlrgAXp"
      }
    },
    {
      "cell_type": "markdown",
      "source": [
        "# **Ejercicios - Variables y Expresiones**"
      ],
      "metadata": {
        "id": "tW1-ULBmb0Cm"
      }
    },
    {
      "cell_type": "markdown",
      "source": [
        "**Ejercicio 1: Calculadora de ahorro semanal**\n",
        "\n",
        "Pide al usuario cuánto dinero ahorra cada día de lunes a domingo. Al final, muestra cuánto ahorró en total esa semana y cuánto tendría en un mes si repite el mismo patrón cada semana.\n",
        "\n",
        "- Pista: Usar 7 variables (ahorro_lunes, ahorro_martes, …), input(), float(), +, *."
      ],
      "metadata": {
        "id": "9igzfvIKqNGr"
      }
    },
    {
      "cell_type": "code",
      "source": [
        "# Solicitar el ahorro diario\n",
        "ahorro_lunes = float(input(\"¿Cuánto dinero ahorraste el lunes?: \"))\n",
        "ahorro_martes = float(input(\"¿Cuánto dinero ahorraste el martes?: \"))\n",
        "ahorro_miercoles = float(input(\"¿Cuánto dinero ahorraste el miércoles?: \"))\n",
        "ahorro_jueves = float(input(\"¿Cuánto dinero ahorraste el jueves?: \"))\n",
        "ahorro_viernes = float(input(\"¿Cuánto dinero ahorraste el viernes?: \"))\n",
        "ahorro_sabado = float(input(\"¿Cuánto dinero ahorraste el sábado?: \"))\n",
        "ahorro_domingo = float(input(\"¿Cuánto dinero ahorraste el domingo?: \"))\n",
        "\n",
        "# Calcular ahorro semanal\n",
        "ahorro_semanal = (\n",
        "    ahorro_lunes + ahorro_martes + ahorro_miercoles +\n",
        "    ahorro_jueves + ahorro_viernes + ahorro_sabado + ahorro_domingo\n",
        ")\n",
        "\n",
        "# Mostrar resultados\n",
        "print(f\"Tu ahorro semanal es: {ahorro_semanal}\")\n",
        "\n",
        "# Calcular ahorro mensual\n",
        "ahorro_mensual = ahorro_semanal * 4\n",
        "print(f\"Tu ahorro mensual es: {ahorro_mensual}\")\n",
        "\n",
        "## FIN DE CÓDIGO"
      ],
      "metadata": {
        "id": "BX-O1-4wqWF9"
      },
      "execution_count": null,
      "outputs": []
    },
    {
      "cell_type": "markdown",
      "source": [
        "**Ejercicio 2: Conversor de segundos**\n",
        "\n",
        "Solicita una cantidad total de segundos y muestra cuántos minutos y segundos representa.\n",
        "\n",
        "Ejemplo: 130 segundos → 2 minutos y 10 segundos\n",
        "* Pista: Usar // y %\n"
      ],
      "metadata": {
        "id": "oLaw6UggqV3E"
      }
    },
    {
      "cell_type": "code",
      "source": [
        "#Registro de tiempo\n",
        "tiempo = int(input(\"¿Cuántos segundos quieres convertir a minutos?: \"))\n",
        "#Conversión de variables\n",
        "conversion_minutos = tiempo // 60\n",
        "conversion_segundos = tiempo % 60\n",
        "#Devolver la conversión en minutos y segundos\n",
        "print(f\"{conversion_minutos} minutos y {conversion_segundos} segundos\")\n",
        "\n"
      ],
      "metadata": {
        "id": "bAuxBROrqaWb",
        "outputId": "2a7fa5ba-039d-438a-9377-767b29605a33",
        "colab": {
          "base_uri": "https://localhost:8080/"
        }
      },
      "execution_count": 7,
      "outputs": [
        {
          "output_type": "stream",
          "name": "stdout",
          "text": [
            "¿Cuántos segundos quieres convertir a minutos?: 130\n",
            "2 minutos y 10 segundos\n"
          ]
        }
      ]
    },
    {
      "cell_type": "markdown",
      "source": [
        "**Ejercicio 3: Puntuación de juego**\n",
        "\n",
        "Un videojuego otorga:\n",
        "\n",
        "* 10 puntos por cada estrella recolectada,\n",
        "* 50 puntos por cada gema recolectada, y\n",
        "* 1 punto por cada segundo que el jugador se mantuvo vivo.\n",
        "\n",
        "Pide al usuario las tres cantidades y muestra su puntaje total.\n",
        "\n",
        "* Pista: total = estrellas*10 + gemas*50 + tiempo"
      ],
      "metadata": {
        "id": "dK4EIGoKrW2B"
      }
    },
    {
      "cell_type": "code",
      "source": [
        "#Declara las variables\n",
        "Estrella_recolectada = int(input(\"¿Cuántas estrellas recolectaste?: \")) * 10\n",
        "Gema_recolectada = int(input(\"¿Cuántas gemas recolectaste?: \")) * 50\n",
        "Tiempo_vivo = int(input(\"¿Cuántos segundos duriste?: \"))\n",
        "#Total de puntos recolectados\n",
        "total = Estrella_recolectada + Gema_recolectada + Tiempo_vivo\n",
        "print(f\"Tu puntaje total es: {total} puntos\")"
      ],
      "metadata": {
        "id": "jkBQHQF1rlUY",
        "outputId": "380801da-016f-485b-aaf4-63a7e8e75082",
        "colab": {
          "base_uri": "https://localhost:8080/"
        }
      },
      "execution_count": 10,
      "outputs": [
        {
          "output_type": "stream",
          "name": "stdout",
          "text": [
            "¿Cuántas estrellas recolectaste?: 10\n",
            "¿Cuántas gemas recolectaste?: 10\n",
            "¿Cuántos segundos duriste?: 10\n",
            "Tu puntaje total es: 610 puntos\n"
          ]
        }
      ]
    },
    {
      "cell_type": "markdown",
      "source": [
        "**Ejercicio 4: Conversor de monedas con tasa personalizada**\n",
        "\n",
        "Solicita al usuario:\n",
        "\n",
        "* El monto en soles\n",
        "* La tasa de cambio a dólares\n",
        "\n",
        "Muestra el equivalente en dólares, redondeado a 2 decimales.\n",
        "\n",
        "* Pista: Usar float(), *, round(valor, 2)"
      ],
      "metadata": {
        "id": "wW9Edl_8rlt1"
      }
    },
    {
      "cell_type": "code",
      "source": [
        "#Declarar variables\n",
        "soles =float(input(\"¿Cuánto dinero tienes en soles?: \"))\n",
        "tasa_cambio = float(input(\"¿Cual es el tipo de cambio de tu banco?: \"))\n",
        "#Conversion de soles a dolares\n",
        "dolares = round(soles / tasa_cambio, 2)\n",
        "#Devuelve la conversion\n",
        "print(f\"Tienes {dolares} dólares para conquistar el mundo\")"
      ],
      "metadata": {
        "id": "fTCsCohHrmQW",
        "outputId": "3e0306ff-dd08-4b63-b45f-f2a304b171ec",
        "colab": {
          "base_uri": "https://localhost:8080/"
        }
      },
      "execution_count": 11,
      "outputs": [
        {
          "output_type": "stream",
          "name": "stdout",
          "text": [
            "¿Cuánto dinero tienes en soles?: 10\n",
            "¿Cual es el tipo de cambio de tu banco?: 3.5\n",
            "Tienes 2.86 dólares para conquistar el mundo\n"
          ]
        }
      ]
    },
    {
      "cell_type": "markdown",
      "source": [
        "**Ejercicio 5: Costo compartido de viaje**\n",
        "\n",
        "Tres amigos hacen un viaje y pagan distintos montos:\n",
        "\n",
        "* Ana pagó gasolina,\n",
        "* Luis pagó peajes,\n",
        "* Carla pagó comida.\n",
        "\n",
        "Pide los tres montos, calcula el total y cuánto debería aportar cada uno para que paguen igual.\n",
        "\n",
        "* Pista: Calcular el total y luego dividirlo entre 3"
      ],
      "metadata": {
        "id": "JYUyJAidrmnT"
      }
    },
    {
      "cell_type": "code",
      "source": [
        "#Declarar gastos\n",
        "Gasolina = float (input(\"¿Cuanto gastaste en gasolina?: \"))\n",
        "Peajes = float (input(\"¿Cuanto gastaste en peajes?: \"))\n",
        "Comida = float (input(\"¿Cuanto gastaste en comida?:\"))\n",
        "#Gastos totales\n",
        "Total = Gasolina + Peajes + Comida\n",
        "#Distribución de gastos de manera igual, considerando redondeando a un decimal\n",
        "Aporte_equitativo = round(Total / 3, 1)\n",
        "print(f\"Cada uno debe aportar {Aporte_equitativo} soles\")"
      ],
      "metadata": {
        "id": "SGjH-m_mrom9",
        "outputId": "517906bc-1a15-42a6-9a6f-c2cfd4715d3c",
        "colab": {
          "base_uri": "https://localhost:8080/"
        }
      },
      "execution_count": 12,
      "outputs": [
        {
          "output_type": "stream",
          "name": "stdout",
          "text": [
            "¿Cuanto gastaste en gasolina?: 10\n",
            "¿Cuanto gastaste en peajes?: 10\n",
            "¿Cuanto gastaste en comida?:10\n",
            "Cada uno debe aportar 10.0 soles\n"
          ]
        }
      ]
    },
    {
      "cell_type": "markdown",
      "source": [
        "**Ejercicio 6: Tiempo total de estudio**\n",
        "\n",
        "Solicita al usuario cuántas horas estudió en 4 materias distintas.\n",
        "\n",
        "Muestra el total de horas de estudio en la semana y el promedio diario (considerando 7 días).\n"
      ],
      "metadata": {
        "id": "skhBiCaCro5l"
      }
    },
    {
      "cell_type": "code",
      "source": [
        "#Declarar horas de estudio\n",
        "\n",
        "horas_lunes = int(input(\"¿Cuántas horas estudiaste el lunes?: \"))\n",
        "horas_martes = int(input(\"¿Cuántas horas estudiaste el martes?: \"))\n",
        "horas_miercoles = int(input(\"¿Cuántas horas estudiaste el miércoles?: \"))\n",
        "horas_jueves = int(input(\"¿Cuántas horas estudiaste el jueves?: \"))\n",
        "horas_viernes = int(input(\"¿Cuántas horas estudiaste el viernes?: \"))\n",
        "horas_sabado = int(input(\"¿Cuántas horas estudiaste el sábado?: \"))\n",
        "horas_domingo = int(input(\"¿Cuántas horas estudiaste el domingo?: \"))\n",
        "\n",
        "#Suma de horas\n",
        "total_horas = (\n",
        "    horas_lunes + horas_martes + horas_miercoles +\n",
        "    horas_jueves + horas_viernes + horas_sabado + horas_domingo\n",
        ")\n",
        "\n",
        "#Promedio de horas\n",
        "promedio_horas = total_horas / 7\n",
        "\n",
        "#Print de total y promedio de horas\n",
        "print(f\"El total de horas de estudio en la semana es: {total_horas} horas\")\n",
        "print(f\"El promedio de horas de estudio diario es: {promedio_horas} horas\")\n",
        "\n"
      ],
      "metadata": {
        "id": "HnFuV1RPrqXQ",
        "outputId": "57483f2c-fbc1-4b90-f7d8-8093d7a075df",
        "colab": {
          "base_uri": "https://localhost:8080/"
        }
      },
      "execution_count": 13,
      "outputs": [
        {
          "output_type": "stream",
          "name": "stdout",
          "text": [
            "¿Cuántas horas estudiaste el lunes?: 10\n",
            "¿Cuántas horas estudiaste el martes?: 12\n",
            "¿Cuántas horas estudiaste el miércoles?: 13\n",
            "¿Cuántas horas estudiaste el jueves?: 18\n",
            "¿Cuántas horas estudiaste el viernes?: 19\n",
            "¿Cuántas horas estudiaste el sábado?: 20\n",
            "¿Cuántas horas estudiaste el domingo?: 20\n",
            "El total de horas de estudio en la semana es: 112 horas\n",
            "El promedio de horas de estudio diario es: 16.0 horas\n"
          ]
        }
      ]
    },
    {
      "cell_type": "markdown",
      "source": [
        "**Ejercicio 7: Nombre codificado (nivel string)**\n",
        "\n",
        "Pide al usuario su nombre completo y muestra:\n",
        "\n",
        "* La cantidad de caracteres (con len())\n",
        "* Su nombre todo en mayúsculas (.upper())\n",
        "* Su nombre todo en minúsculas (.lower())\n"
      ],
      "metadata": {
        "id": "rNjtOXKWrqs5"
      }
    },
    {
      "cell_type": "code",
      "source": [
        "#Declarar nombre\n",
        "nombres = input(\"¿Cuál es tu nombre(s)?: \").strip()\n",
        "#Declarar apellidos\n",
        "apellido_paterno = input(\"¿Cuál es tu apellido paterno?: \").strip()\n",
        "apellido_materno = input(\"¿Cuál es tu apellido materno?: \").strip()\n",
        "#Declarar nombre completo\n",
        "nombre_completo = nombres + \" \" + apellido_paterno + \" \" + apellido_materno\n",
        "#Cantidad de valores de nombre completo\n",
        "print(f\"Tu nombre completo tiene {len(nombre_completo)}\")\n",
        "#Nombre completo en mayusculas\n",
        "print(f\"Tu nombre completo en mayúsculas es: {nombre_completo.upper()}\")\n",
        "#Nombre completo en minusculas\n",
        "print(f\"Tu nombre completo en minúsculas es: {nombre_completo.lower()}\")\n"
      ],
      "metadata": {
        "id": "GnGm74GXrsL0",
        "outputId": "ca5f1e89-9878-49dc-9df0-91d1ab519644",
        "colab": {
          "base_uri": "https://localhost:8080/"
        }
      },
      "execution_count": 19,
      "outputs": [
        {
          "output_type": "stream",
          "name": "stdout",
          "text": [
            "¿Cuál es tu nombre(s)?: abel\n",
            "¿Cuál es tu apellido paterno?: mendoza\n",
            "¿Cuál es tu apellido materno?: goñe\n",
            "Tu nombre completo tiene 17\n",
            "Tu nombre completo en mayúsculas es: ABEL MENDOZA GOÑE\n",
            "Tu nombre completo en minúsculas es: abel mendoza goñe\n"
          ]
        }
      ]
    },
    {
      "cell_type": "markdown",
      "source": [
        "**Ejercicio 8: Frase repetida**\n",
        "\n",
        "Pide una frase y un número n, y muestra la frase repetida n veces, cada una en una línea.\n",
        "\n",
        "* Pista: print(frase * n)  # y/o con '\\n'"
      ],
      "metadata": {
        "id": "lrhPyjmWrse2"
      }
    },
    {
      "cell_type": "code",
      "source": [
        "frase = input(\"Ingresa una frase: \")\n",
        "n = int(input(\"Ingresa un número: \"))\n",
        "print((frase + '\\n') * n)"
      ],
      "metadata": {
        "id": "Vzef3t_Lru0p",
        "outputId": "1f92c60d-4167-42b6-c2d3-5d54420add08",
        "colab": {
          "base_uri": "https://localhost:8080/"
        }
      },
      "execution_count": 26,
      "outputs": [
        {
          "output_type": "stream",
          "name": "stdout",
          "text": [
            "Ingresa una frase: hola\n",
            "Ingresa un número: 2\n",
            "hola\n",
            "hola\n",
            "\n"
          ]
        }
      ]
    },
    {
      "cell_type": "markdown",
      "source": [
        "**Ejercicio 9: División de cuentas**\n",
        "\n",
        "Un grupo de amigos pide una cuenta por S/ 250.\n",
        "Pide al usuario cuántas personas están en el grupo y muestra cuánto debe pagar cada uno.\n",
        "\n",
        "Asegúrate de redondear el resultado a 2 decimales.\n",
        "\n",
        "* Pista: Usa la funcion round()"
      ],
      "metadata": {
        "id": "5NpbbGR_rvNH"
      }
    },
    {
      "cell_type": "code",
      "source": [
        "#Cuenta\n",
        "cuenta = 250\n",
        "#Cantidad de personas\n",
        "grupo = int(input(\"¿Cuantos amigos son?: \"))\n",
        "#Pago igualitario\n",
        "pago_amigos = round (cuenta / grupo ,2)\n",
        "#Imprimir pago igualitario\n",
        "print(f\"Cada uno debe pagar {pago_amigos} soles\")"
      ],
      "metadata": {
        "id": "uMxuVCUVrvj6",
        "outputId": "b2d3ccda-9a17-4376-eaae-7b72250867c0",
        "colab": {
          "base_uri": "https://localhost:8080/"
        }
      },
      "execution_count": 27,
      "outputs": [
        {
          "output_type": "stream",
          "name": "stdout",
          "text": [
            "¿Cuantos amigos son?: 10\n",
            "Cada uno debe pagar 25.0 soles\n"
          ]
        }
      ]
    },
    {
      "cell_type": "markdown",
      "source": [
        "**Ejercicio 10: Calendario de clases**\n",
        "\n",
        "Pide cuántas horas se estudia en promedio por día, y cuántos días tiene el mes.\n",
        "\n",
        "Calcula cuántas horas de estudio habrá ese mes."
      ],
      "metadata": {
        "id": "p3PYp0l4pxuI"
      }
    },
    {
      "cell_type": "code",
      "source": [
        "#Estudiar horas\n",
        "horas_por_dia = float(input(\"¿Cuántas horas estudias en promedio por día?: \"))\n",
        "#Dias de mes\n",
        "dias_del_mes = int(input(\"¿Cuántos días tiene el mes?: \"))\n",
        "#Horas de estudio al mes\n",
        "horas_totales = horas_por_dia * dias_del_mes\n",
        "#Imprimir horas totales de estudio del mes\n",
        "print(f\"Estudiarás aproximadamente {horas_totales} horas en este mes.\")"
      ],
      "metadata": {
        "id": "y1bXFffhrxk2",
        "outputId": "d443133b-2079-447e-f1b8-3142ce4ed870",
        "colab": {
          "base_uri": "https://localhost:8080/"
        }
      },
      "execution_count": 28,
      "outputs": [
        {
          "output_type": "stream",
          "name": "stdout",
          "text": [
            "¿Cuántas horas estudias en promedio por día?: 12\n",
            "¿Cuántos días tiene el mes?: 4\n",
            "Estudiarás aproximadamente 48.0 horas en este mes.\n"
          ]
        }
      ]
    },
    {
      "cell_type": "markdown",
      "source": [
        "---\n",
        "\n",
        "# Gracias por completar este laboratorio!\n",
        "\n",
        "---\n"
      ],
      "metadata": {
        "id": "8_ZocYoOrx3Z"
      }
    }
  ]
}